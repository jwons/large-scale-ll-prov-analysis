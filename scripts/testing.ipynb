{
 "cells": [
  {
   "cell_type": "markdown",
   "id": "split-austria",
   "metadata": {},
   "source": [
    "# Analysis of Large-Scale Collection of Language-Level Provenance"
   ]
  },
  {
   "cell_type": "code",
   "execution_count": 13,
   "id": "cultural-buyer",
   "metadata": {},
   "outputs": [
    {
     "ename": "ModuleNotFoundError",
     "evalue": "No module named 'timebudget'",
     "output_type": "error",
     "traceback": [
      "\u001b[0;31m---------------------------------------------------------------------------\u001b[0m",
      "\u001b[0;31mModuleNotFoundError\u001b[0m                       Traceback (most recent call last)",
      "\u001b[0;32m<ipython-input-13-7a6d7605dd2b>\u001b[0m in \u001b[0;36m<module>\u001b[0;34m\u001b[0m\n\u001b[1;32m      6\u001b[0m \u001b[0;32mfrom\u001b[0m \u001b[0mglob\u001b[0m \u001b[0;32mimport\u001b[0m \u001b[0mglob\u001b[0m\u001b[0;34m\u001b[0m\u001b[0;34m\u001b[0m\u001b[0m\n\u001b[1;32m      7\u001b[0m \u001b[0;32mfrom\u001b[0m \u001b[0mprovdebug\u001b[0m \u001b[0;32mimport\u001b[0m \u001b[0mProvParser\u001b[0m\u001b[0;34m\u001b[0m\u001b[0;34m\u001b[0m\u001b[0m\n\u001b[0;32m----> 8\u001b[0;31m \u001b[0;32mfrom\u001b[0m \u001b[0mtimebudget\u001b[0m \u001b[0;32mimport\u001b[0m \u001b[0mtimebudget\u001b[0m\u001b[0;34m\u001b[0m\u001b[0;34m\u001b[0m\u001b[0m\n\u001b[0m\u001b[1;32m      9\u001b[0m \u001b[0;34m\u001b[0m\u001b[0m\n\u001b[1;32m     10\u001b[0m \u001b[0mroot_directory\u001b[0m \u001b[0;34m=\u001b[0m \u001b[0;34m\"/home/jovyan/work/\"\u001b[0m\u001b[0;34m\u001b[0m\u001b[0;34m\u001b[0m\u001b[0m\n",
      "\u001b[0;31mModuleNotFoundError\u001b[0m: No module named 'timebudget'"
     ]
    }
   ],
   "source": [
    "import math\n",
    "import os\n",
    "\n",
    "import numpy as np\n",
    "\n",
    "from glob import glob \n",
    "from provdebug import ProvParser\n",
    "from timebudget import timebudget\n",
    "\n",
    "root_directory = \"/home/jovyan/work/\""
   ]
  },
  {
   "cell_type": "code",
   "execution_count": 11,
   "id": "asian-pulse",
   "metadata": {},
   "outputs": [],
   "source": [
    "json_files = [y for x in os.walk(root_directory) for y in glob(os.path.join(x[0], '*.json'))]"
   ]
  },
  {
   "cell_type": "code",
   "execution_count": 12,
   "id": "married-portable",
   "metadata": {},
   "outputs": [
    {
     "data": {
      "text/plain": [
       "28"
      ]
     },
     "execution_count": 12,
     "metadata": {},
     "output_type": "execute_result"
    }
   ],
   "source": [
    "\n",
    "\n",
    "\n",
    "iterations_count = round(1e7)\n",
    "\n",
    "def complex_operation(input_index):\n",
    "    print(\"Complex operation. Input index: {:2d}\".format(input_index))\n",
    "\n",
    "    [math.exp(i) * math.sinh(i) for i in [1] * iterations_count]\n",
    "\n",
    "@timebudget\n",
    "def run_complex_operations(operation, input):\n",
    "    for i in input:\n",
    "        operation(i)\n",
    "\n",
    "input = range(10)\n",
    "run_complex_operations(complex_operation, input)"
   ]
  },
  {
   "cell_type": "code",
   "execution_count": null,
   "id": "reasonable-ridge",
   "metadata": {},
   "outputs": [],
   "source": []
  },
  {
   "cell_type": "code",
   "execution_count": null,
   "id": "blank-washington",
   "metadata": {},
   "outputs": [],
   "source": []
  }
 ],
 "metadata": {
  "kernelspec": {
   "display_name": "Python 3",
   "language": "python",
   "name": "python3"
  },
  "language_info": {
   "codemirror_mode": {
    "name": "ipython",
    "version": 3
   },
   "file_extension": ".py",
   "mimetype": "text/x-python",
   "name": "python",
   "nbconvert_exporter": "python",
   "pygments_lexer": "ipython3",
   "version": "3.8.8"
  }
 },
 "nbformat": 4,
 "nbformat_minor": 5
}
